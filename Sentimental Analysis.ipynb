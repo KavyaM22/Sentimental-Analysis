{
  "nbformat": 4,
  "nbformat_minor": 0,
  "metadata": {
    "colab": {
      "provenance": [],
      "include_colab_link": true
    },
    "kernelspec": {
      "name": "python3",
      "display_name": "Python 3"
    },
    "language_info": {
      "name": "python"
    }
  },
  "cells": [
    {
      "cell_type": "markdown",
      "metadata": {
        "id": "view-in-github",
        "colab_type": "text"
      },
      "source": [
        "<a href=\"https://colab.research.google.com/github/KavyaM22/Sentimental-Analysis/blob/main/Sentimental%20Analysis.ipynb\" target=\"_parent\"><img src=\"https://colab.research.google.com/assets/colab-badge.svg\" alt=\"Open In Colab\"/></a>"
      ]
    },
    {
      "cell_type": "code",
      "source": [
        "import pandas as pd\n",
        "#It can detect the presence or absence of a text by matching it with a particular pattern,\n",
        "#and also can split a pattern into one or more sub-patterns.\n",
        "import re\n",
        "from nltk.corpus import stopwords\n",
        "from nltk.tokenize import word_tokenize\n",
        "from nltk.stem import WordNetLemmatizer\n",
        "from textblob import TextBlob\n",
        "import nltk\n",
        "# Download necessary NLTK data\n",
        "nltk.download('stopwords')\n",
        "nltk.download('punkt') # punkt is a data package used for sentence tokenization.\n",
        "                       # It includes pre-trained models and data necessary for tokenizing text into sentences and words.\n",
        "nltk.download('wordnet')\n",
        "nltk.download('omw-1.4')\n",
        "\n",
        "# Load the dataset\n",
        "file_path = '/content/Restaurant reviews (1).csv'  # Adjust path if necessary\n",
        "data = pd.read_csv(file_path)\n",
        "\n",
        "# Handle missing values\n",
        "data['Review'] = data['Review'].astype(str).fillna('')\n",
        "\n",
        "# Remove duplicate reviews\n",
        "data = data.drop_duplicates(subset=['Review'])\n",
        "\n",
        "# Function to clean text\n",
        "def clean_text(text):\n",
        "    text = re.sub(r'<.*?>', '', text)  # Remove HTML tags\n",
        "    text = re.sub(r'http\\S+|www\\S+|https\\S+', '', text, flags=re.MULTILINE)  # Remove URLs\n",
        "    text = re.sub(r'[^a-zA-Z\\s]', '', text)  # Remove non-alphabetic characters\n",
        "    return text\n",
        "\n",
        "data['Cleaned_Review'] = data['Review'].apply(clean_text)\n",
        "\n",
        "# Normalize the text (lowercasing)\n",
        "data['Cleaned_Review'] = data['Cleaned_Review'].str.lower()\n",
        "\n",
        "# Remove stop words\n",
        "stop_words = set(stopwords.words('english'))\n",
        "\n",
        "def remove_stopwords(text):\n",
        "    return ' '.join([word for word in text.split() if word not in stop_words])\n",
        "\n",
        "data['Cleaned_Review'] = data['Cleaned_Review'].apply(remove_stopwords)\n",
        "\n",
        "# Tokenization\n",
        "data['Tokenized_Review'] = data['Cleaned_Review'].apply(word_tokenize)\n",
        "\n",
        "# Lemmatization\n",
        "lemmatizer = WordNetLemmatizer()\n",
        "\n",
        "def lemmatize_text(tokens):\n",
        "    return [lemmatizer.lemmatize(word) for word in tokens]\n",
        "\n",
        "data['Lemmatized_Review'] = data['Tokenized_Review'].apply(lemmatize_text)\n",
        "\n",
        "# Convert tokens back to string\n",
        "data['Processed_Review'] = data['Lemmatized_Review'].apply(lambda tokens: ' '.join(tokens))\n"
      ],
      "metadata": {
        "colab": {
          "base_uri": "https://localhost:8080/"
        },
        "id": "7InJsqGH1Ydi",
        "outputId": "2eb1ecd8-9fb7-4087-b323-c87124fca4c4"
      },
      "execution_count": null,
      "outputs": [
        {
          "output_type": "stream",
          "name": "stderr",
          "text": [
            "[nltk_data] Downloading package stopwords to /root/nltk_data...\n",
            "[nltk_data]   Package stopwords is already up-to-date!\n",
            "[nltk_data] Downloading package punkt to /root/nltk_data...\n",
            "[nltk_data]   Package punkt is already up-to-date!\n",
            "[nltk_data] Downloading package wordnet to /root/nltk_data...\n",
            "[nltk_data]   Package wordnet is already up-to-date!\n",
            "[nltk_data] Downloading package omw-1.4 to /root/nltk_data...\n",
            "[nltk_data]   Package omw-1.4 is already up-to-date!\n"
          ]
        }
      ]
    },
    {
      "cell_type": "markdown",
      "source": [],
      "metadata": {
        "id": "SPKovp7oIXJ1"
      }
    },
    {
      "cell_type": "code",
      "source": [
        "import nltk\n",
        "from nltk.sentiment.vader import SentimentIntensityAnalyzer # VADER for sentiment analysis\n",
        "import pandas as pd # pandas for data manipulation\n",
        "\n",
        "# Load VaderSentiment\n",
        "nltk.download('vader_lexicon')\n",
        "sia = SentimentIntensityAnalyzer()"
      ],
      "metadata": {
        "colab": {
          "base_uri": "https://localhost:8080/"
        },
        "id": "aOSBzeur4sAj",
        "outputId": "bffd0391-e228-4a35-bbae-49467e610a38"
      },
      "execution_count": null,
      "outputs": [
        {
          "output_type": "stream",
          "name": "stderr",
          "text": [
            "[nltk_data] Downloading package vader_lexicon to /root/nltk_data...\n",
            "[nltk_data]   Package vader_lexicon is already up-to-date!\n"
          ]
        }
      ]
    },
    {
      "cell_type": "code",
      "source": [
        "def analyze_sentiment(text):\n",
        "    sentiment_scores = sia.polarity_scores(text) # finding sentiment scores for the text\n",
        "    compound_score = sentiment_scores['compound']\n",
        "    # The compound score is a single value that represents the overall sentiment of the text, ranging from -1 to +1.\n",
        "    if compound_score >= 0.05:\n",
        "        return 'Positive'\n",
        "    elif compound_score <= -0.05:\n",
        "        return 'Negative'\n",
        "    else:\n",
        "        return 'Neutral'"
      ],
      "metadata": {
        "id": "f2TEjXLo4-7T"
      },
      "execution_count": null,
      "outputs": []
    },
    {
      "cell_type": "code",
      "source": [
        "data['sentiment'] = data['Processed_Review'].apply(analyze_sentiment)"
      ],
      "metadata": {
        "id": "yiENTJIF5k-A"
      },
      "execution_count": null,
      "outputs": []
    },
    {
      "cell_type": "code",
      "source": [
        "print(data['sentiment'].value_counts())"
      ],
      "metadata": {
        "colab": {
          "base_uri": "https://localhost:8080/"
        },
        "id": "f5TQqXs26tRN",
        "outputId": "4ea07159-a2c2-4a20-d420-a95bdd19ba70"
      },
      "execution_count": null,
      "outputs": [
        {
          "output_type": "stream",
          "name": "stdout",
          "text": [
            "sentiment\n",
            "Positive    7318\n",
            "Negative    1366\n",
            "Neutral      681\n",
            "Name: count, dtype: int64\n"
          ]
        }
      ]
    },
    {
      "cell_type": "code",
      "source": [
        "# Get the count of each sentiment type\n",
        "sentiment_counts = data['sentiment'].value_counts()\n",
        "\n",
        "# Calculate the overall sentiment\n",
        "if sentiment_counts.index[0] == 'Positive':\n",
        "    overall_sentiment = 'Positive'\n",
        "elif sentiment_counts.index[0] == 'Negative':\n",
        "    overall_sentiment = 'Negative'\n",
        "else:\n",
        "    overall_sentiment = 'Neutral'\n",
        "\n",
        "print(f'Overall Sentiment: {overall_sentiment}')"
      ],
      "metadata": {
        "colab": {
          "base_uri": "https://localhost:8080/"
        },
        "id": "KQmfovqb8GUX",
        "outputId": "28f82ef3-4008-4903-b63c-54e5310a06e6"
      },
      "execution_count": null,
      "outputs": [
        {
          "output_type": "stream",
          "name": "stdout",
          "text": [
            "Overall Sentiment: Positive\n"
          ]
        }
      ]
    },
    {
      "cell_type": "code",
      "source": [
        "# Count the number of positive reviews for each restaurant\n",
        "positive_reviews = data[data['sentiment'] == 'Positive'].groupby('Restaurant').size().reset_index(name='Positive_Review_Count')\n",
        "\n",
        "# Check if there are any positive reviews\n",
        "if positive_reviews.empty:\n",
        "    print(\"No positive reviews found.\")\n",
        "else:\n",
        "    # Identify the restaurant with the most positive reviews\n",
        "    most_positive_restaurant = positive_reviews.sort_values(by='Positive_Review_Count', ascending=False).iloc[0]\n",
        "    print(most_positive_restaurant)"
      ],
      "metadata": {
        "colab": {
          "base_uri": "https://localhost:8080/"
        },
        "id": "VKIt--0kPjY1",
        "outputId": "29782245-0184-4370-e303-6efc59f5bcbd"
      },
      "execution_count": null,
      "outputs": [
        {
          "output_type": "stream",
          "name": "stdout",
          "text": [
            "Restaurant               AB's - Absolute Barbecues\n",
            "Positive_Review_Count                          100\n",
            "Name: 3, dtype: object\n"
          ]
        }
      ]
    }
  ]
}